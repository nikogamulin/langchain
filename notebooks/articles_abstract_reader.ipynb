{
 "cells": [
  {
   "cell_type": "code",
   "execution_count": 9,
   "metadata": {},
   "outputs": [],
   "source": [
    "import os\n",
    "import json\n",
    "import PyPDF2\n",
    "import openai\n",
    "from tqdm import tqdm\n",
    "import gspread\n",
    "import pandas as pd\n",
    "import json\n",
    "import re\n",
    "import ast"
   ]
  },
  {
   "cell_type": "code",
   "execution_count": 10,
   "metadata": {},
   "outputs": [],
   "source": [
    "# Read and parse the JSON settings file\n",
    "with open('../settings.json') as settings_file:\n",
    "    settings = json.load(settings_file)"
   ]
  },
  {
   "cell_type": "code",
   "execution_count": 19,
   "metadata": {},
   "outputs": [],
   "source": [
    "# Set your OpenAI API key\n",
    "openai.api_key = settings['OPENAI_API_KEY']\n",
    "\n",
    "def list_pdf_files(folder_path):\n",
    "    pdf_files = [file for file in os.listdir(folder_path) if file.endswith('.pdf')]\n",
    "    return pdf_files\n",
    "\n",
    "def read_pdf(file_path):\n",
    "    with open(file_path, 'rb') as file:\n",
    "        pdf_reader = PyPDF2.PdfReader(file)\n",
    "        text = ''\n",
    "        for page_num in range(len(pdf_reader.pages)):\n",
    "            text += pdf_reader.pages[page_num].extract_text()\n",
    "            # assume the abstract is on the first page\n",
    "            break\n",
    "    return text\n",
    "\n",
    "def extract_abstract(text):\n",
    "    messages = [\n",
    "    {\"role\": \"system\", \"content\" : \"You’re a kind helpful assistant for extracting the title and the abstract from the first page of scientific article\"}\n",
    "    ]\n",
    "    messages.append(\n",
    "        {\"role\": \"user\", \"content\": f\"extract the title and the abstract from the following content. The content is the first page of read pdf. It contains the title at the top and after the abstract, it contains most likely keywords and introduction chapter return the result in json format with properties title and abstract. Content: {text}\"}\n",
    "    )\n",
    "    completion = openai.ChatCompletion.create(\n",
    "        model=\"gpt-3.5-turbo\",\n",
    "        messages=messages\n",
    "    )\n",
    "    chat_response = completion.choices[0].message.content\n",
    "    return ast.literal_eval(json.dumps(chat_response))\n",
    "\n",
    "folder_path = \"../data/articles\"\n",
    "\n",
    "pdf_files = list_pdf_files(folder_path)\n"
   ]
  },
  {
   "cell_type": "code",
   "execution_count": 22,
   "metadata": {},
   "outputs": [],
   "source": [
    "processed_files = {}\n",
    "errors = {}"
   ]
  },
  {
   "cell_type": "code",
   "execution_count": 23,
   "metadata": {},
   "outputs": [
    {
     "name": "stderr",
     "output_type": "stream",
     "text": [
      " 35%|███▌      | 61/172 [16:11<15:47,  8.54s/it]  "
     ]
    },
    {
     "name": "stdout",
     "output_type": "stream",
     "text": [
      "Error processing 2002 Maly et al - Seasonal variability in soil N mineralization and nitrification as influenced by N fertilization.pdf: This model's maximum context length is 4097 tokens. However, your messages resulted in 11501 tokens. Please reduce the length of the messages.\n"
     ]
    },
    {
     "name": "stderr",
     "output_type": "stream",
     "text": [
      " 51%|█████     | 88/172 [24:48<22:16, 15.91s/it]"
     ]
    },
    {
     "name": "stdout",
     "output_type": "stream",
     "text": [
      "Error processing 2008 Nakhone and Tabatabai - Nitrogen mineralization of leguminous crops in soils.pdf: This model's maximum context length is 4097 tokens. However, your messages resulted in 8997 tokens. Please reduce the length of the messages.\n"
     ]
    },
    {
     "name": "stderr",
     "output_type": "stream",
     "text": [
      " 63%|██████▎   | 109/172 [30:42<10:48, 10.29s/it]"
     ]
    },
    {
     "name": "stdout",
     "output_type": "stream",
     "text": [
      "Error processing 2003 Paul et al - Defining the relation between soil water content and net nitrogen mineralization.pdf: This model's maximum context length is 4097 tokens. However, your messages resulted in 7688 tokens. Please reduce the length of the messages.\n"
     ]
    },
    {
     "name": "stderr",
     "output_type": "stream",
     "text": [
      "100%|██████████| 172/172 [50:38<00:00, 17.67s/it]\n"
     ]
    }
   ],
   "source": [
    "\n",
    "\n",
    "with tqdm(total=len(pdf_files)) as pbar:\n",
    "    for pdf_file in pdf_files:\n",
    "        if pdf_file in processed_files:\n",
    "            pbar.update(1)\n",
    "            continue\n",
    "        try:\n",
    "            file_path = os.path.join(folder_path, pdf_file)\n",
    "            text = read_pdf(file_path)\n",
    "            parsed_content = extract_abstract(text)\n",
    "            processed_files[pdf_file] = parsed_content\n",
    "        except Exception as e:\n",
    "            print(f\"Error processing {pdf_file}: {e}\")\n",
    "            errors[pdf_file] = e\n",
    "            \n",
    "        pbar.update(1)"
   ]
  },
  {
   "cell_type": "code",
   "execution_count": 24,
   "metadata": {},
   "outputs": [
    {
     "data": {
      "text/plain": [
       "{'title': 'Pea green manure management affects organic winter wheat yield and quality in semiarid Montana',\n",
       " 'abstract': 'Organic farmers in semiarid Montana desire green manures that supply sufficient soil nitrate-N (NO 3-N) to subsequent crops with minimal soil water depletion. Spring and winter pea (Pisum sativum L.) green manures were compared at the bloom and pod stages for soil NO 3-N contribution and water use, and subsequent winter wheat (Triticum aestivum L.) grain yield and quality in a long-term organic farm in northern Montana. Winter wheat was managed with three additional variables (cultivar, row spacing, and seeding rate). Winter pea had 15/C1 33 kg ha/C281 greater shoot N content (at pod stage only), contributed 14 /C120 kg ha/C281 greater soil NO 3-N, used 26 /C131 mm less soil water, and increased winter wheat grain yield by 13/C139%and protein by 1.5 percentage units(2007 only),compared with spring pea.'}"
      ]
     },
     "execution_count": 24,
     "metadata": {},
     "output_type": "execute_result"
    }
   ],
   "source": [
    "json.loads(processed_files['2011 Miller et al - Pea green manure management affects organic winter wheat yield and quality in semiarid Montana.pdf'])"
   ]
  },
  {
   "cell_type": "code",
   "execution_count": 29,
   "metadata": {},
   "outputs": [
    {
     "data": {
      "text/plain": [
       "{'2002 Maly et al - Seasonal variability in soil N mineralization and nitrification as influenced by N fertilization.pdf': InvalidRequestError(message=\"This model's maximum context length is 4097 tokens. However, your messages resulted in 11501 tokens. Please reduce the length of the messages.\", param='messages', code='context_length_exceeded', http_status=400, request_id=None),\n",
       " '2008 Nakhone and Tabatabai - Nitrogen mineralization of leguminous crops in soils.pdf': InvalidRequestError(message=\"This model's maximum context length is 4097 tokens. However, your messages resulted in 8997 tokens. Please reduce the length of the messages.\", param='messages', code='context_length_exceeded', http_status=400, request_id=None),\n",
       " '2003 Paul et al - Defining the relation between soil water content and net nitrogen mineralization.pdf': InvalidRequestError(message=\"This model's maximum context length is 4097 tokens. However, your messages resulted in 7688 tokens. Please reduce the length of the messages.\", param='messages', code='context_length_exceeded', http_status=400, request_id=None)}"
      ]
     },
     "execution_count": 29,
     "metadata": {},
     "output_type": "execute_result"
    }
   ],
   "source": [
    "errors"
   ]
  },
  {
   "cell_type": "code",
   "execution_count": 60,
   "metadata": {},
   "outputs": [],
   "source": [
    "file_path = os.path.join(folder_path, list(errors.keys())[1])\n",
    "text = read_pdf(file_path)"
   ]
  },
  {
   "cell_type": "code",
   "execution_count": 59,
   "metadata": {},
   "outputs": [
    {
     "name": "stdout",
     "output_type": "stream",
     "text": [
      "/G52/G4F/G53/G54/G4C/G49/G4E/G4E/GC1/G20/G56/GDD/G52/G4F/G42/G41/G2C/G20 /G34/G38/G2C/G20/G32/G30/G30/G32/G20/G28/G39/G29/G3A/G20/G33/G38/G39/G96/G33/G39/G36 /G33/G38/G39/G53/G65/G61/G73/G6F/G6E/G61/G6C/G20/G76/G61/G72/G69/G61/G62/G69/G6C/G69/G74/G79/G20/G69/G6E/G20/G73/G6F/G69/G6C/G20/G4E/G20/G6D/G69/G6E/G65/G72/G61/G6C/G69/G7A/G61/G74/G69/G6F/G6E/G20/G61/G6E/G64/G20/G6E/G69/G74/G72/G69/G66/G69/G63/G61/G74/G69/G6F/G6E\n",
      "/G61/G73/G20/G69/G6E/G66/G6C/G75/G65/G6E/G63/G65/G64/G20/G62/G79/G20/G4E/G20/G66/G65/G72/G74/G69/G6C/G69/G7A/G61/G74/G69/G6F/G6E\n",
      "/G53/G2E/G20/G4D/G61/G6C/GFD/G31/G2C/G20/G42/G2E/G20/G8A/G61/G72/G61/G70/G61/G74/G6B/G61/G32/G2C/G20/G4D/G2E/G20/G4B/G72/G9A/G6B/G6F/G76/GE1/G32\n",
      "/G31/G43/G65/G6E/G74/G72/G61/G6C/G20/G49/G6E/G73/G74/G69/G74/G75/G74/G65/G20/G66/G6F/G72/G20/G53/G75/G70/G65/G72/G76/G69/G73/G69/G6E/G67/G20/G61/G6E/G64/G20/G54/G65/G73/G74/G69/G6E/G67/G20/G69/G6E/G20/G41/G67/G72/G69/G63/G75/G6C/G74/G75/G72/G65/G2C/G20/G42/G72/G6E/G6F/G2C/G20/G43/G7A/G65/G63/G68/G20/G52/G65/G70/G75/G62/G6C/G69/G63\n",
      "/G32/G46/G61/G63/G75/G6C/G74/G79/G20/G6F/G66/G20/G53/G63/G69/G65/G6E/G63/G65/G2C/G20/G50/G61/G6C/G61/G63/G6B/GFD/G20/G55/G6E/G69/G76/G65/G72/G73/G69/G74/G79/G2C/G20/G4F/G6C/G6F/G6D/G6F/G75/G63/G2C/G20/G43/G7A/G65/G63/G68/G20/G52/G65/G70/G75/G62/G6C/G69/G63\n",
      "/G41/G42/G53/G54/G52/G41/G43/G54\n",
      "/G50/G61/G72/G61/G6D/G65/G74/G65/G72/G73/G20/G63/G68/G61/G72/G61/G63/G74/G65/G72/G69/G7A/G69/G6E/G67/G20/G4E/G20/G6D/G69/G6E/G65/G72/G61/G6C/G69/G7A/G61/G74/G69/G6F/G6E/G20/G61/G6E/G64/G20/G6E/G69/G74/G72/G69/G66/G69/G63/G61/G74/G69/G6F/G6E/G20/G77/G65/G72/G65/G20/G6D/G65/G61/G73/G75/G72/G65/G64/G20/G69/G6E/G20/G73/G6F/G69/G6C/G73/G20/G6F/G66/G20/G74/G65/G6E/G20/G6D/G6F/G6E/G69/G74/G6F/G72/G69/G6E/G67/G20/G61/G72/G65/G61/G73/G20/G6F/G66/G20/G74/G68/G65/G20/G62/G61/G73/G61/G6C\n",
      "/G73/G6F/G69/G6C/G20/G6D/G6F/G6E/G69/G74/G6F/G72/G69/G6E/G67/G20/G63/G61/G72/G72/G69/G65/G64/G20/G6F/G75/G74/G20/G62/G79/G20/G74/G68/G65/G20/G43/G65/G6E/G74/G72/G61/G6C/G20/G49/G6E/G73/G74/G69/G74/G75/G74/G65/G20/G66/G6F/G72/G20/G53/G75/G70/G65/G72/G76/G69/G73/G69/G6E/G67/G20/G61/G6E/G64/G20/G54/G65/G73/G74/G69/G6E/G67/G20/G69/G6E/G20/G41/G67/G72/G69/G63/G75/G6C/G74/G75/G72/G65/G2E/G20/G41/GA0/G72/G65/G6D/G61/G72/G6B/G61/G62/G6C/G65/G20/G73/G65/G61/G73/G6F/G6E/G61/G6C\n",
      "/G63/G79/G63/G6C/G65/G20/G77/G61/G73/G20/G66/G6F/G75/G6E/G64/G20/G6F/G6E/G6C/G79/G20/G66/G6F/G72/G20/G6E/G69/G74/G72/G61/G74/G65/G20/G63/G6F/G6E/G63/G65/G6E/G74/G72/G61/G74/G69/G6F/G6E/G73/G20/G74/G68/G61/G74/G20/G72/G65/G61/G63/G68/G65/G64/G20/G74/G68/G65/G69/G72/G20/G6D/G61/G78/G69/G6D/G61/G20/G69/G6E/G20/G74/G68/G65/G20/G73/G70/G72/G69/G6E/G67/G20/G28/G41/G70/G72/G69/G6C/G96/G4A/G75/G6E/G65/G29/G2C/G20/G61/G6E/G64/G20/G6C/G61/G74/G65/G20/G73/G75/G6D/G6D/G65/G72\n",
      "/G61/G6E/G64/G2F/G6F/G72/G20/G61/G75/G74/G75/G6D/G6E/G2C/G20/G73/G74/G61/G72/G74/G69/G6E/G67/G20/G69/G6E/G20/G41/G75/G67/G75/G73/G74/G2E/G20/G41/G6D/G6D/G6F/G6E/G69/G75/G6D/G20/G69/G6F/G6E/G73/G20/G77/G65/G72/G65/G20/G6E/G69/G74/G72/G69/G66/G69/G65/G64/G20/G69/G6D/G6D/G65/G64/G69/G61/G74/G65/G6C/G79/G20/G61/G66/G74/G65/G72/G20/G66/G65/G72/G74/G69/G6C/G69/G7A/G65/G72/G20/G61/G70/G70/G6C/G69/G63/G61/G74/G69/G6F/G6E/G2E/G20/G41/G6E/G61/G65/G72/G6F/G62/G69/G63\n",
      "/G4E/G20/G6D/G69/G6E/G65/G72/G61/G6C/G69/G7A/G61/G74/G69/G6F/G6E/G20/G72/G65/G70/G72/G65/G73/G65/G6E/G74/G65/G64/G20/G61/GA0/G76/G61/G72/G69/G61/G62/G6C/G65/G20/G70/G61/G72/G61/G6D/G65/G74/G65/G72/G2C/G20/G77/G68/G69/G63/G68/G20/G77/G61/G73/G20/G6E/G6F/G74/G20/G64/G69/G72/G65/G63/G74/G6C/G79/G20/G61/G66/G66/G65/G63/G74/G65/G64/G20/G62/G79/G20/G6D/G69/G6E/G65/G72/G61/G6C/G20/G4E/G20/G66/G65/G72/G74/G69/G6C/G69/G7A/G65/G72/G73/G2E/G20/G4E/G69/G74/G72/G69/G66/G69/G63/G61/G74/G69/G6F/G6E\n",
      "/G6D/G65/G61/G73/G75/G72/G65/G64/G20/G62/G79/G20/G6D/G65/G61/G6E/G73/G20/G6F/G66/G20/G6F/G6E/G65/G2D/G77/G65/G65/G6B/G20/G69/G6E/G63/G75/G62/G61/G74/G69/G6F/G6E/G20/G77/G61/G73/G20/G73/G69/G67/G6E/G69/G66/G69/G63/G61/G6E/G74/G6C/G79/G20/G73/G74/G69/G6D/G75/G6C/G61/G74/G65/G64/G20/G62/G79/G20/G4E/G20/G66/G65/G72/G74/G69/G6C/G69/G7A/G65/G72/G73/G20/G63/G6F/G6E/G66/G69/G72/G6D/G69/G6E/G67/G20/G74/G68/G61/G74/G20/G73/G75/G62/G73/G74/G72/G61/G74/G65/G20/G61/G76/G61/G69/G6C/G2D\n",
      "/G61/G62/G69/G6C/G69/G74/G79/G20/G77/G61/G73/G20/G61/GA0/G6C/G69/G6D/G69/G74/G69/G6E/G67/G20/G66/G61/G63/G74/G6F/G72/G20/G6F/G66/G20/G74/G68/G69/G73/G20/G70/G72/G6F/G63/G65/G73/G73/G2E/G20/G53/G68/G6F/G72/G74/G2D/G74/G65/G72/G6D/G20/G6E/G69/G74/G72/G69/G66/G69/G63/G61/G74/G69/G6F/G6E/G20/G61/G63/G74/G69/G76/G69/G74/G79/G20/G28/G53/G4E/G41/G29/G20/G73/G68/G6F/G77/G65/G64/G20/G6E/G6F/G20/G72/G65/G6D/G61/G72/G6B/G61/G62/G6C/G65/G20/G73/G65/G61/G73/G6F/G6E/G61/G6C/G20/G66/G6C/G75/G63/G2D\n",
      "/G74/G75/G61/G74/G69/G6F/G6E/G73/G2C/G20/G77/G68/G69/G63/G68/G20/G6D/G65/G61/G6E/G74/G20/G74/G68/G61/G74/G20/G74/G68/G65/G20/G70/G6F/G74/G65/G6E/G74/G69/G61/G6C/G20/G6E/G69/G74/G72/G69/G66/G69/G63/G61/G74/G69/G6F/G6E/G20/G72/G61/G74/G65/G20/G72/G65/G6D/G61/G69/G6E/G65/G64/G20/G72/G65/G6C/G61/G74/G69/G76/G65/G6C/G79/G20/G63/G6F/G6E/G73/G74/G61/G6E/G74/G20/G64/G75/G72/G69/G6E/G67/G20/G74/G68/G65/G20/G73/G65/G61/G73/G6F/G6E/G2E/G20/G55/G72/G65/G61/G73/G65/G20/G61/G63/G74/G69/G76/G69/G74/G79\n",
      "/G77/G61/G73/G20/G6D/G6F/G73/G74/G6C/G79/G20/G63/G6F/G6E/G73/G74/G61/G6E/G74/G20/G64/G75/G72/G69/G6E/G67/G20/G74/G68/G65/G20/G79/G65/G61/G72/G20/G61/G6E/G64/G20/G77/G61/G73/G20/G6F/G6E/G6C/G79/G20/G73/G6C/G69/G67/G68/G74/G6C/G79/G20/G72/G65/G6C/G61/G74/G65/G64/G20/G74/G6F/G20/G4E/G20/G6D/G69/G6E/G65/G72/G61/G6C/G69/G7A/G61/G74/G69/G6F/G6E/G2E\n",
      "/G4B/G65/G79/G77/G6F/G72/G64/G73/G3A /G20/G73/G6F/G69/G6C/G3B/G20/G4E/G20/G6D/G69/G6E/G65/G72/G61/G6C/G69/G7A/G61/G74/G69/G6F/G6E/G3B/G20/G6E/G69/G74/G72/G69/G66/G69/G63/G61/G74/G69/G6F/G6E/G3B/G20/G4E/G20/G66/G65/G72/G74/G69/G6C/G69/G7A/G65/G72/G73/G3B/G20/G73/G65/G61/G73/G6F/G6E/G61/G6C/G20/G76/G61/G72/G69/G61/G62/G69/G6C/G69/G74/G79\n",
      "/G53/G6F/G69/G6C/G20/G71/G75/G61/G6C/G69/G74/G79/G20/G69/G73/G20/G61/GA0/G74/G65/G72/G6D/G20/G6F/G66/G74/G65/G6E/G20/G75/G73/G65/G64/G20/G66/G6F/G72/G20/G63/G6F/G6D/G70/G6C/G65/G78/G20/G73/G6F/G69/G6C/G20/G65/G76/G61/G6C/G75/G2D\n",
      "/G61/G74/G69/G6F/G6E/G20/G72/G65/G66/G65/G72/G72/G69/G6E/G67/G20/G74/G6F/G20/G69/G74/G73/G20/G61/G62/G69/G6C/G69/G74/G79/G20/G74/G6F/G20/G66/G75/G6E/G63/G74/G69/G6F/G6E/G20/G77/G69/G74/G68/G69/G6E/G20/G74/G68/G65/G20/G73/G63/G6F/G70/G65/G6F/G66/G20/G61/G6E/G20/G65/G63/G6F/G73/G79/G73/G74/G65/G6D/G20/G61/G6E/G64/G20/G6D/G61/G69/G6E/G74/G61/G69/G6E/G20/G69/G74/G73/G20/G70/G72/G6F/G64/G75/G63/G74/G69/G76/G69/G74/G79/G2C/G20/G63/G6F/G6E/G74/G72/G69/G62/G2D/G75/G74/G65/G20/G74/G6F/G20/G74/G68/G65/G20/G71/G75/G61/G6C/G69/G74/G79/G20/G6F/G66/G20/G74/G68/G65/G20/G65/G6E/G76/G69/G72/G6F/G6E/G6D/G65/G6E/G74/G2C/G20/G61/G6E/G64/G20/G73/G75/G70/G70/G6F/G72/G74/G20/G74/G68/G65/G68/G65/G61/G6C/G74/G68/G79/G20/G64/G65/G76/G65/G6C/G6F/G70/G6D/G65/G6E/G74/G20/G6F/G66/G20/G70/G6C/G61/G6E/G74/G73/G20/G61/G6E/G64/G20/G61/G6E/G69/G6D/G61/G6C/G73/G2E/G20/G54/G68/G65/G20/G62/G65/G73/G74/G2D/G64/G65/G66/G69/G6E/G65/G64/G20/G65/G6C/G65/G6D/G65/G6E/G74/G20/G6F/G66/G20/G73/G6F/G69/G6C/G20/G71/G75/G61/G6C/G69/G74/G79/G20/G69/G73/G20/G69/G74/G73/G20/G69/G6D/G70/G61/G63/G74/G20/G6F/G6E/G20/G70/G6C/G61/G6E/G74/G20/G70/G72/G6F/G2D/G64/G75/G63/G74/G69/G6F/G6E/G2E/G20/G4D/G6F/G72/G65/G6F/G76/G65/G72/G2C/G20/G73/G6F/G69/G6C/G20/G6D/G61/G79/G20/G65/G76/G65/G6E/G20/G69/G6E/G66/G6C/G75/G65/G6E/G63/G65/G20/G74/G68/G65/G20/G71/G75/G61/G6C/G69/G74/G79/G6F/G66/G20/G70/G6C/G61/G6E/G74/G73/G2C/G20/G61/G6E/G69/G6D/G61/G6C/G20/G61/G6E/G64/G20/G68/G75/G6D/G61/G6E/G20/G68/G65/G61/G6C/G74/G68/G20/G61/G73/G20/G77/G65/G6C/G6C/G20/G61/G73/G20/G69/G6E/G64/G69/G76/G69/G64/G75/G61/G6C/G65/G6E/G76/G69/G72/G6F/G6E/G6D/G65/G6E/G74/G61/G6C/G20/G63/G6F/G6D/G70/G6F/G6E/G65/G6E/G74/G73/G2E/G20/G49/G6E/G20/G70/G72/G61/G63/G74/G69/G63/G65/G2C/G20/G68/G6F/G77/G65/G76/G65/G72/G2C/G20/G74/G68/G65/G70/G72/G6F/G62/G6C/G65/G6D/G20/G68/G6F/G77/G20/G74/G6F/G20/G6D/G65/G61/G73/G75/G72/G65/G20/G61/G6E/G64/G20/G65/G76/G61/G6C/G75/G61/G74/G65/G20/G74/G68/G69/G73/G20/G71/G75/G61/G6C/G69/G74/G79/G20/G61/G72/G69/G73/G65/G73/G2E/G49/G74/G20/G69/G73/G20/G69/G6E/G65/G76/G69/G74/G61/G62/G6C/G65/G20/G74/G6F/G20/G73/G65/G6C/G65/G63/G74/G20/G70/G72/G6F/G70/G65/G72/G20/G71/G75/G61/G6C/G69/G74/G79/G20/G69/G6E/G64/G69/G63/G61/G74/G6F/G72/G73/G20/G77/G68/G69/G63/G68/G68/G61/G76/G65/G2C/G20/G61/G63/G63/G6F/G72/G64/G69/G6E/G67/G20/G74/G6F/G20/G44/G6F/G72/G61/G6E/G20/G61/G6E/G64/G20/G50/G61/G72/G6B/G69/G6E/G20/G28/G31/G39/G39/G36/G29/G2C/G20/G74/G6F/G20/G62/G65/G20/G63/G6F/G72/G72/G65/G2D/G6C/G61/G74/G65/G64/G20/G77/G69/G74/G68/G20/G74/G68/G65/G20/G65/G63/G6F/G73/G79/G73/G74/G65/G6D/G20/G70/G72/G6F/G63/G65/G73/G73/G65/G73/G2C/G20/G69/G6E/G74/G65/G67/G72/G61/G74/G65/G20/G70/G68/G79/G73/G69/G63/G61/G6C/G2C/G63/G68/G65/G6D/G69/G63/G61/G6C/G20/G61/G6E/G64/G20/G62/G69/G6F/G6C/G6F/G67/G69/G63/G61/G6C/G20/G70/G72/G6F/G70/G65/G72/G74/G69/G65/G73/G20/G6F/G66/G20/G73/G6F/G69/G6C/G73/G20/G61/G6E/G64/G20/G74/G68/G65/G20/G73/G6F/G69/G6C/G70/G72/G6F/G63/G65/G73/G73/G65/G73/G20/G61/G6E/G64/G20/G62/G65/G20/G72/G65/G6C/G61/G74/G69/G76/G65/G6C/G79/G20/G65/G61/G73/G79/G20/G74/G6F/G20/G75/G73/G65/G20/G61/G6E/G64/G20/G6D/G61/G73/G74/G65/G72/G20/G75/G6E/G2D/G64/G65/G72/G20/G66/G69/G65/G6C/G64/G20/G63/G6F/G6E/G64/G69/G74/G69/G6F/G6E/G73/G20/G62/G6F/G74/G68/G20/G62/G79/G20/G70/G72/G6F/G66/G65/G73/G73/G69/G6F/G6E/G61/G6C/G73/G20/G61/G6E/G64/G20/G66/G61/G72/G6D/G65/G72/G73/G2E/G49/G6E/G20/G61/G64/G64/G69/G74/G69/G6F/G6E/G2C/G20/G74/G68/G65/G79/G20/G73/G68/G6F/G75/G6C/G64/G20/G62/G65/G20/G73/G65/G6E/G73/G69/G74/G69/G76/G65/G20/G74/G6F/G20/G63/G68/G61/G6E/G67/G65/G73/G20/G69/G6E/G20/G66/G61/G72/G6D/G2D/G69/G6E/G67/G20/G61/G6E/G64/G2F/G6F/G72/G20/G63/G6C/G69/G6D/G61/G74/G65/G2E\n",
      "/G4D/G69/G63/G72/G6F/G62/G69/G61/G6C/G20/G70/G61/G72/G61/G6D/G65/G74/G65/G72/G73/G20/G62/G65/G6C/G6F/G6E/G67/G20/G74/G6F/G20/G65/G61/G72/G6C/G79/G20/G69/G6E/G64/G69/G63/G61/G74/G6F/G72/G73/G20/G6F/G66/G20/G73/G6F/G69/G6C\n",
      "/G71/G75/G61/G6C/G69/G74/G79/G20/G63/G68/G61/G6E/G67/G65/G73/G20/G62/G65/G63/G61/G75/G73/G65/G20/G74/G68/G65/G79/G20/G63/G61/G6E/G20/G72/G65/G73/G70/G6F/G6E/G64/G20/G74/G6F/G20/G6D/G6F/G64/G69/G66/G69/G65/G64/G73/G6F/G69/G6C/G20/G63/G6F/G6E/G64/G69/G74/G69/G6F/G6E/G73/G20/G73/G6F/G6F/G6E/G65/G72/G20/G74/G68/G61/G6E/G20/G70/G68/G79/G73/G69/G63/G61/G6C/G20/G61/G6E/G64/G20/G63/G68/G65/G6D/G69/G63/G61/G6C/G20/G70/G72/G6F/G70/G2D/G65/G72/G74/G69/G65/G73/G20/G28/G54/G73/G63/G68/G65/G72/G6B/G6F/G20/G61/G6E/G64/G20/G4B/G61/G6E/G64/G65/G6C/G65/G72/G20/G31/G39/G39/G39/G29/G2E/G20/G54/G68/G65/G20/G61/G70/G70/G6C/G69/G63/G61/G74/G69/G6F/G6E/G20/G6F/G66/G74/G68/G65/G20/G6D/G69/G63/G72/G6F/G62/G69/G61/G6C/G20/G70/G61/G72/G61/G6D/G65/G74/G65/G72/G73/G20/G69/G6E/G20/G74/G68/G65/G20/G73/G79/G73/G74/G65/G6D/G20/G6F/G66/G20/G73/G6F/G69/G6C/G20/G71/G75/G61/G6C/G69/G74/G79/G6D/G6F/G6E/G69/G74/G6F/G72/G69/G6E/G67/G20/G69/G73/G20/G72/G61/G74/G68/G65/G72/G20/G6C/G69/G6D/G69/G74/G65/G64/G20/G62/G79/G20/G74/G68/G65/G69/G72/G20/G6E/G61/G74/G75/G72/G61/G6C/G20/G76/G61/G72/G69/G61/G62/G69/G6C/G69/G74/G79/G64/G75/G72/G69/G6E/G67/G20/G76/G65/G67/G65/G74/G61/G74/G69/G6F/G6E/G2C/G20/G61/G6E/G64/G20/G74/G68/G65/G20/G72/G6F/G75/G74/G69/G6E/G65/G20/G75/G73/G65/G20/G69/G73/G20/G69/G6D/G70/G6F/G73/G73/G69/G62/G6C/G65/G20/G77/G69/G74/G68/G2D/G6F/G75/G74/G20/G69/G74/G73/G20/G6B/G6E/G6F/G77/G6C/G65/G64/G67/G65/G20/G28/G47/G72/G65/G67/G6F/G72/G69/G63/G68/G20/G65/G74/G20/G61/G6C/G2E/G20/G31/G39/G39/G34/G2C/G20/G42/G72/G6F/G6F/G6B/G65/G73/G20/G31/G39/G39/G35/G29/G2E/G57/G69/G74/G68/G69/G6E/G20/G74/G68/G65/G20/G63/G6F/G6E/G74/G65/G78/G74/G20/G6F/G66/G20/G6E/G69/G74/G72/G6F/G67/G65/G6E/G20/G74/G75/G72/G6E/G6F/G76/G65/G72/G2C/G20/G73/G6F/G69/G6C/G20/G71/G75/G61/G6C/G69/G74/G79/G20/G69/G73/G73/G69/G67/G6E/G69/G66/G69/G63/G61/G6E/G74/G6C/G79/G20/G61/G66/G66/G65/G63/G74/G65/G64/G20/G62/G79/G20/G74/G77/G6F/G20/G70/G61/G72/G61/G6D/G65/G74/G65/G72/G73/G2C/G20/G6E/G61/G6D/G65/G6C/G79/G20/G4E/G20/G6D/G69/G6E/G2D/G65/G72/G61/G6C/G69/G7A/G61/G74/G69/G6F/G6E/G20/G61/G6E/G64/G20/G6E/G69/G74/G72/G69/G66/G69/G63/G61/G74/G69/G6F/G6E/G2E/G20/G4D/G69/G6E/G65/G72/G61/G6C/G69/G7A/G61/G62/G6C/G65/G20/G6E/G69/G74/G72/G6F/G67/G65/G6E/G20/G72/G65/G2D/G66/G6C/G65/G63/G74/G73/G20/G61/G6E/G20/G75/G6E/G73/G74/G61/G62/G6C/G65/G20/G61/G6E/G64/G20/G65/G61/G73/G69/G6C/G79/G20/G70/G6C/G61/G6E/G74/G2D/G61/G76/G61/G69/G6C/G61/G62/G6C/G65/G20/G73/G6F/G69/G6C/G20/G6E/G69/G74/G72/G6F/G67/G65/G6E/G66/G72/G61/G63/G74/G69/G6F/G6E/G20/G28/G47/G72/G65/G67/G6F/G72/G69/G63/G68/G20/G65/G74/G20/G61/G6C/G2E/G20/G31/G39/G39/G34/G29/G2E/G20/G4E/G69/G74/G72/G69/G66/G69/G63/G61/G74/G69/G6F/G6E/G20/G69/G73/G20/G61/GA0/G70/G72/G6F/G63/G65/G73/G73/G73/G65/G6E/G73/G69/G74/G69/G76/G65/G20/G74/G6F/G20/G73/G6F/G69/G6C/G20/G64/G69/G73/G74/G75/G72/G62/G61/G6E/G63/G65/G73/G2C/G20/G62/G65/G63/G61/G75/G73/G65/G20/G69/G74/G20/G69/G73/G20/G63/G6F/G6E/G74/G72/G6F/G6C/G6C/G65/G64/G20/G62/G79/G61/GA0/G6E/G61/G72/G72/G6F/G77/G20/G72/G61/G6E/G67/G65/G20/G6F/G66/G20/G63/G68/G65/G6D/G6F/G6C/G69/G74/G68/G6F/G74/G72/G6F/G70/G68/G69/G63/G20/G6D/G69/G63/G72/G6F/G6F/G72/G67/G61/G6E/G69/G73/G6D/G73/G28/G53/G70/G61/G72/G6C/G69/G6E/G67/G20/G31/G39/G39/G37/G29/G2E/G54/G68/G65/G20/G64/G79/G6E/G61/G6D/G69/G63/G73/G20/G6F/G66/G20/G4E/G20/G6D/G69/G6E/G65/G72/G61/G6C/G69/G7A/G61/G74/G69/G6F/G6E/G20/G61/G6E/G64/G20/G6E/G69/G74/G72/G69/G66/G69/G63/G61/G74/G69/G6F/G6E/G20/G69/G6E\n",
      "/G74/G68/G65/G20/G73/G6F/G69/G6C/G20/G63/G61/G6E/G6E/G6F/G74/G20/G62/G65/G20/G70/G72/G6F/G70/G65/G72/G6C/G79/G20/G75/G6E/G64/G65/G72/G73/G74/G6F/G6F/G64/G20/G77/G69/G74/G68/G6F/G75/G74/G20/G72/G65/G70/G65/G61/G74/G65/G64/G65/G73/G74/G69/G6D/G61/G74/G69/G6F/G6E/G20/G64/G75/G72/G69/G6E/G67/G20/G74/G68/G65/G20/G79/G65/G61/G72/G20/G62/G65/G63/G61/G75/G73/G65/G20/G74/G68/G65/G69/G72/G20/G73/G65/G61/G73/G6F/G6E/G61/G6C/G20/G70/G61/G74/G74/G65/G72/G6E/G69/G73/G20/G69/G6D/G70/G6F/G73/G73/G69/G62/G6C/G65/G20/G74/G6F/G20/G70/G72/G65/G64/G69/G63/G74/G20/G75/G73/G69/G6E/G67/G20/G6F/G6E/G6C/G79/G20/G61/GA0/G73/G69/G6E/G67/G6C/G65/G20/G64/G65/G74/G65/G72/G6D/G69/G6E/G61/G74/G69/G6F/G6E/G69/G6E/G20/G74/G68/G65/G20/G62/G65/G67/G69/G6E/G6E/G69/G6E/G67/G20/G6F/G66/G20/G74/G68/G65/G20/G76/G65/G67/G65/G74/G61/G74/G69/G6F/G6E/G20/G70/G65/G72/G69/G6F/G64/G20/G28/G46/G72/G61/G6E/G7A/G6C/G75/G65/G62/G62/G65/G72/G73/G65/G74/G20/G61/G6C/G2E/G20/G31/G39/G39/G35/G29/G2E/G20/G49/G6E/G20/G61/G72/G61/G62/G6C/G65/G20/G73/G6F/G69/G6C/G73/G2C/G20/G74/G68/G65/G73/G65/G20/G70/G72/G6F/G63/G65/G73/G73/G65/G73/G20/G61/G72/G65/G20/G73/G69/G67/G6E/G69/G66/G69/G2D/G63/G61/G6E/G74/G6C/G79/G20/G69/G6E/G66/G6C/G75/G65/G6E/G63/G65/G64/G20/G62/G79/G20/G63/G75/G6C/G74/G75/G72/G61/G6C/G20/G70/G72/G61/G63/G74/G69/G63/G65/G73/G20/G28/G43/G61/G6D/G70/G62/G65/G6C/G6C/G20/G65/G74/G20/G61/G6C/G2E/G31/G39/G39/G39/G61/G29/G20/G61/G70/G61/G72/G74/G20/G66/G72/G6F/G6D/G20/G6E/G61/G74/G75/G72/G61/G6C/G20/G66/G61/G63/G74/G6F/G72/G73/G20/G74/G68/G61/G74/G20/G77/G69/G6C/G6C/G20/G62/G65/G20/G64/G69/G73/G63/G75/G73/G73/G65/G64/G66/G75/G72/G74/G68/G65/G72/G20/G6F/G6E/G2E\n",
      "/G49/G6E/G20/G67/G65/G6E/G65/G72/G61/G6C/G2C/G20/G4E/G20/G6D/G69/G6E/G65/G72/G61/G6C/G69/G7A/G61/G74/G69/G6F/G6E/G20/G65/G78/G68/G69/G62/G69/G74/G73/G20/G69/G6E/G63/G72/G65/G61/G73/G65/G64/G20/G76/G61/G6C/G75/G65/G73\n",
      "/G65/G69/G74/G68/G65/G72/G20/G6C/G61/G74/G65/G20/G69/G6E/G20/G74/G68/G65/G20/G73/G70/G72/G69/G6E/G67/G20/G64/G75/G72/G69/G6E/G67/G20/G6D/G61/G78/G69/G6D/G75/G6D/G20/G72/G6F/G6F/G74/G20/G64/G65/G76/G65/G6C/G6F/G70/G2D/G6D/G65/G6E/G74/G20/G64/G75/G65/G20/G74/G6F/G20/G6C/G69/G62/G65/G72/G61/G74/G69/G6F/G6E/G20/G6F/G66/G20/G72/G6F/G6F/G74/G20/G65/G78/G75/G64/G61/G74/G65/G73/G20/G69/G6E/G74/G6F/G20/G73/G6F/G69/G6C/G2C/G20/G73/G75/G66/G66/G69/G2D/G63/G69/G65/G6E/G74/G20/G73/G6F/G69/G6C/G20/G6D/G6F/G69/G73/G74/G75/G72/G65/G20/G61/G6E/G64/G20/G66/G61/G76/G6F/G75/G72/G61/G62/G6C/G65/G20/G74/G65/G6D/G70/G65/G72/G61/G74/G75/G72/G65/G73/G2C/G20/G6F/G72/G20/G61/G66/G74/G65/G72/G68/G61/G72/G76/G65/G73/G74/G20/G69/G6E/G20/G74/G68/G65/G20/G6C/G61/G74/G65/G20/G73/G75/G6D/G6D/G65/G72/G20/G61/G6E/G64/G20/G69/G6E/G20/G74/G68/G65/G20/G61/G75/G74/G75/G6D/G6E/G20/G77/G68/G65/G6E/G20/G6F/G72/G2D/G67/G61/G6E/G69/G63/G20/G72/G65/G73/G69/G64/G75/G65/G73/G20/G73/G74/G61/G72/G74/G20/G74/G6F/G20/G65/G6E/G74/G65/G72/G20/G74/G68/G65/G20/G73/G6F/G69/G6C/G2E/G20/G4D/G69/G6E/G69/G6D/G75/G6D/G20/G76/G61/G6C/G75/G65/G73/G77/G65/G72/G65/G20/G6F/G62/G73/G65/G72/G76/G65/G64/G20/G61/G74/G20/G74/G68/G65/G20/G73/G75/G6D/G6D/G65/G72/G20/G70/G65/G72/G69/G6F/G64/G20/G61/G73/G20/G61/GA0/G72/G65/G73/G75/G6C/G74/G20/G6F/G66/G20/G61/GA0/G77/G61/G74/G65/G72/G73/G68/G6F/G72/G74/G61/G67/G65/G20/G28/G56/G61/G6E/G20/G47/G65/G73/G74/G65/G6C/G20/G65/G74/G20/G61/G6C/G2E/G20/G31/G39/G39/G32/G2C/G20/G47/G69/G6C/G6C/G20/G65/G74/G20/G61/G6C/G2E/G20/G31/G39/G39/G35/G2C/G20/G52/G6F/G68/G64/G65/G31/G39/G39/G36/G29/G2E/G20/G4F/G6E/G20/G74/G68/G65/G20/G63/G6F/G6E/G74/G72/G61/G72/G79/G2C/G20/G43/G61/G6D/G70/G62/G65/G6C/G6C/G20/G65/G74/G20/G61/G6C/G2E/G20/G28/G31/G39/G39/G39/G62/G29/G20/G72/G65/G76/G65/G61/G6C/G65/G64/G6E/G6F/G20/G64/G69/G73/G74/G69/G6E/G63/G74/G20/G74/G72/G65/G6E/G64/G73/G20/G69/G6E/G20/G4E/G20/G6D/G69/G6E/G65/G72/G61/G6C/G69/G7A/G61/G74/G69/G6F/G6E/G20/G69/G6E/G20/G74/G68/G65/G20/G63/G6F/G75/G72/G73/G65/G20/G6F/G66/G20/G74/G68/G65/G76/G65/G67/G65/G74/G61/G74/G69/G6F/G6E/G20/G70/G65/G72/G69/G6F/G64/G2E/G20/G49/G74/G20/G73/G65/G65/G6D/G73/G20/G74/G68/G61/G74/G20/G4E/G20/G6D/G69/G6E/G65/G72/G61/G6C/G69/G7A/G61/G74/G69/G6F/G6E/G20/G69/G73/G20/G72/G61/G74/G68/G2D/G65/G72/G20/G64/G65/G70/G65/G6E/G64/G65/G6E/G74/G20/G6F/G6E/G20/G74/G68/G65/G20/G73/G6F/G69/G6C/G20/G63/G75/G6C/G74/G69/G76/G61/G74/G69/G6F/G6E/G20/G6D/G65/G74/G68/G6F/G64/G20/G6F/G76/G65/G72/G20/G73/G65/G76/G65/G72/G61/G6C/G73/G75/G63/G63/G65/G73/G73/G69/G76/G65/G20/G79/G65/G61/G72/G73/G20/G61/G6E/G64/G20/G74/G68/G65/G20/G61/G63/G63/G75/G6D/G75/G6C/G61/G74/G69/G6F/G6E/G20/G6F/G66/G20/G61/G6E/G20/G65/G61/G73/G69/G6C/G79/G6D/G69/G6E/G65/G72/G61/G6C/G69/G7A/G61/G62/G6C/G65/G20/G73/G75/G62/G73/G74/G72/G61/G74/G65/G20/G74/G68/G61/G6E/G20/G6F/G6E/G20/G61/G6E/G20/G69/G6E/G73/G74/G61/G6E/G74/G61/G6E/G65/G6F/G75/G73/G20/G69/G6E/G70/G75/G74/G6F/G66/G20/G4E/G20/G66/G65/G72/G74/G69/G6C/G69/G7A/G65/G72/G73/G20/G28/G48/G61/G73/G73/G69/G6E/G6B/G20/G31/G39/G39/G32/G2C/G20/G47/G69/G6C/G6C/G20/G65/G74/G20/G61/G6C/G2E/G20/G31/G39/G39/G35/G29/G2E\n",
      "/G49/G6E/G20/G67/G65/G6E/G65/G72/G61/G6C/G2C/G20/G6D/G61/G78/G69/G6D/G75/G6D/G20/G76/G61/G6C/G75/G65/G73/G20/G6F/G66/G20/G6E/G69/G74/G72/G69/G66/G69/G63/G61/G74/G69/G6F/G6E/G20/G61/G72/G65/G20/G61/G63/G68/G69/G65/G76/G65/G64\n",
      "/G69/G6E/G20/G74/G68/G65/G20/G73/G70/G72/G69/G6E/G67/G20/G61/G6E/G64/G20/G61/G75/G74/G75/G6D/G6E/G20/G64/G75/G65/G20/G74/G6F/G20/G6F/G70/G74/G69/G6D/G75/G6D/G20/G74/G65/G6D/G70/G65/G72/G61/G74/G75/G72/G65/G20/G61/G6E/G64/G6D/G6F/G69/G73/G74/G75/G72/G65/G20/G63/G6F/G6E/G64/G69/G74/G69/G6F/G6E/G73/G20/G61/G6E/G64/G20/G68/G69/G67/G68/G65/G72/G20/G73/G75/G62/G73/G74/G72/G61/G74/G65/G20/G61/G76/G61/G69/G6C/G61/G62/G69/G6C/G69/G74/G79/G20/G74/G68/G61/G74/G61/G72/G65/G20/G6C/G69/G6D/G69/G74/G69/G6E/G67/G20/G66/G61/G63/G74/G6F/G72/G73/G20/G6F/G66/G20/G6E/G69/G74/G72/G69/G66/G69/G63/G61/G74/G69/G6F/G6E/G20/G28/G50/G61/G75/G6C/G20/G61/G6E/G64/G20/G43/G6C/G61/G72/G6B/G20/G31/G39/G39/G36/G29/G2E/G4E/G69/G74/G72/G69/G66/G69/G63/G61/G74/G69/G6F/G6E/G20/G69/G6E/G63/G72/G65/G61/G73/G65/G20/G69/G73/G20/G6F/G62/G73/G65/G72/G76/G65/G64/G20/G69/G6D/G6D/G65/G64/G69/G61/G74/G65/G6C/G79/G20/G61/G66/G74/G65/G72/G20/G4E/G20/G66/G65/G72/G2D/G74/G69/G6C/G69/G7A/G65/G72/G20/G61/G70/G70/G6C/G69/G63/G61/G74/G69/G6F/G6E/G20/G28/G4C/G6F/G76/G65/G6C/G6C/G20/G61/G6E/G64/G20/G48/G61/G74/G63/G68/G20/G31/G39/G39/G38/G29/G20/G62/G65/G63/G61/G75/G73/G65/G20/G6F/G66/G61/GA0/G70/G65/G72/G6D/G61/G6E/G65/G6E/G74/G20/G73/G68/G6F/G72/G74/G61/G67/G65/G20/G6F/G66/G20/G61/GA0/G73/G75/G62/G73/G74/G72/G61/G74/G65/G20/G66/G6F/G72/G20/G61/G6D/G6D/G6F/G6E/G69/G61/G20/G6F/G78/G69/G64/G69/G73/G2D/G65/G72/G73/G20/G69/G6E/G20/G6D/G6F/G73/G74/G20/G73/G6F/G69/G6C/G73/G20/G28/G54/G61/G74/G65/G20/G32/G30/G30/G30/G29/G2E/G20/G57/G6F/G6C/G64/G65/G6E/G64/G6F/G72/G70/G20/G61/G6E/G64/G20/G4C/G61/G61/G6E/G62/G72/G6F/G65/G6B/G28/G31/G39/G38/G39/G29/G20/G72/G65/G70/G6F/G72/G74/G65/G64/G20/G74/G68/G61/G74/G20/G74/G68/G65/G20/G61/G6D/G6F/G75/G6E/G74/G73/G20/G6F/G66/G20/G6E/G69/G74/G72/G69/G66/G69/G63/G61/G74/G69/G6F/G6E/G20/G62/G61/G63/G74/G65/G72/G69/G61/G64/G69/G64/G20/G6E/G6F/G74/G20/G63/G68/G61/G6E/G67/G65/G20/G69/G6E/G20/G74/G68/G65/G20/G63/G6F/G75/G72/G73/G65/G20/G6F/G66/G20/G61/GA0/G73/G68/G6F/G72/G74/G20/G70/G65/G72/G69/G6F/G64/G2E/G20/G54/G68/G69/G73/G20/G69/G73/G20/G69/G6E\n"
     ]
    }
   ],
   "source": [
    "print(text)"
   ]
  },
  {
   "cell_type": "code",
   "execution_count": 63,
   "metadata": {},
   "outputs": [
    {
     "name": "stdout",
     "output_type": "stream",
     "text": [
      "ROSTLINNÁ VÝROBA, 48, 2002 (9): 389396389Seasonal variability in soil N mineralization and nitrificationas influenced by N fertilizationS. Malý1, B. arapatka2, M. Krková21Central Institute for Supervising and Testing in Agriculture, Brno, Czech Republic2Faculty of Science, Palacký University, Olomouc, Czech RepublicABSTRACTParameters characterizing N mineralization and nitrification were measured in soils of ten monitoring areas of the basalsoil monitoring carried out by the Central Institute for Supervising and Testing in Agriculture. A remarkable seasonalcycle was found only for nitrate concentrations that reached their maxima in the spring (AprilJune), and late summerand/or autumn, starting in August. Ammonium ions were nitrified immediately after fertilizer application. AnaerobicN mineralization represented a variable parameter, which was not directly affected by mineral N fertilizers. Nitrificationmeasured by means of one-week incubation was significantly stimulated by N fertilizers confirming that substrate avail-ability was a limiting factor of this process. Short-term nitrification activity (SNA) showed no remarkable seasonal fluc-tuations, which meant that the potential nitrification rate remained relatively constant during the season. Urease activitywas mostly constant during the year and was only slightly related to N mineralization.Keywords: soil; N mineralization; nitrification; N fertilizers; seasonal variabilitySoil quality is a term often used for complex soil evalu-ation referring to its ability to function within the scopeof an ecosystem and maintain its productivity, contrib-ute to the quality of the environment, and support thehealthy development of plants and animals. The best-defined element of soil quality is its impact on plant pro-duction. Moreover, soil may even influence the qualityof plants, animal and human health as well as individualenvironmental components. In practice, however, theproblem how to measure and evaluate this quality arises.It is inevitable to select proper quality indicators whichhave, according to Doran and Parkin (1996), to be corre-lated with the ecosystem processes, integrate physical,chemical and biological properties of soils and the soilprocesses and be relatively easy to use and master un-der field conditions both by professionals and farmers.In addition, they should be sensitive to changes in farm-ing and/or climate.Microbial parameters belong to early indicators of soilquality changes because they can respond to modifiedsoil conditions sooner than physical and chemical prop-erties (Tscherko and Kandeler 1999). The application ofthe microbial parameters in the system of soil qualitymonitoring is rather limited by their natural variabilityduring vegetation, and the routine use is impossible with-out its knowledge (Gregorich et al. 1994, Brookes 1995).Within the context of nitrogen turnover, soil quality issignificantly affected by two parameters, namely N min-eralization and nitrification. Mineralizable nitrogen re-flects an unstable and easily plant-available soil nitrogenfraction (Gregorich et al. 1994). Nitrification is a processsensitive to soil disturbances, because it is controlled bya narrow range of chemolithotrophic microorganisms(Sparling 1997).The dynamics of N mineralization and nitrification inthe soil cannot be properly understood without repeatedestimation during the year because their seasonal patternis impossible to predict using only a single determinationin the beginning of the vegetation period (Franzluebberset al. 1995). In arable soils, these processes are signifi-cantly influenced by cultural practices (Campbell et al.1999a) apart from natural factors that will be discussedfurther on.In general, N mineralization exhibits increased valueseither late in the spring during maximum root develop-ment due to liberation of root exudates into soil, suffi-cient soil moisture and favourable temperatures, or afterharvest in the late summer and in the autumn when or-ganic residues start to enter the soil. Minimum valueswere observed at the summer period as a result of a watershortage (Van Gestel et al. 1992, Gill et al. 1995, Rohde1996). On the contrary, Campbell et al. (1999b) revealedno distinct trends in N mineralization in the course of thevegetation period. It seems that N mineralization is rath-er dependent on the soil cultivation method over severalsuccessive years and the accumulation of an easilymineralizable substrate than on an instantaneous inputof N fertilizers (Hassink 1992, Gill et al. 1995).In general, maximum values of nitrification are achievedin the spring and autumn due to optimum temperature andmoisture conditions and higher substrate availability thatare limiting factors of nitrification (Paul and Clark 1996).Nitrification increase is observed immediately after N fer-tilizer application (Lovell and Hatch 1998) because ofa permanent shortage of a substrate for ammonia oxidis-ers in most soils (Tate 2000). Woldendorp and Laanbroek(1989) reported that the amounts of nitrification bacteriadid not change in the course of a short period. This is in\n",
      "\u001b2008 WILEY-VCH Verlag GmbH & Co. KGaA, Weinheim www.plant-soil.comJ. Plant Nutr. Soil Sci. 2008, 171, 231±241 DOI: 10.1002/jpln.200625162 231NitrogenmineralizationofleguminouscropsinsoilsLenahN.Nakhone 1,2andM.AliTabatabai 1*1Department of Agronomy, Iowa State University, Ames, Iowa 50011±1010 USA2Current address: Department of Soil Science, Egerton University, Njoro, KenyaAbstractOrganic-N production by legumes is a key benefit of growing cover crops and green manures.A soil sample was mixed with legume residue commonly used as green manure in Kenya at arate of 500 mg N (kg soil)±1. Silica sand equal to the weight of the soils was added and mixedthoroughly. The mixture was packed in a leaching tube and leached with 100 mL of 5 mM ofCaCl2.2H2O and incubated at 30\u001eC. The leaching was repeated every 2 weeks for a total of 16weeks and analyzed for N as NH4,N O\u00003, and NO\u00002. Five legume residues and five differentsoilswere used in this study. Nitrogen mineralization of the legume residues conformed to an expo-nential model. Application of a two-components exponential model showed two phases of Nmineralization. The relationship between the organic N remaining after each incubation periodand time of incubation was controlled by two first-order reactions. The initial fast rate ( k1) chan-ged to a slow rate ( k2) at incubation times ranging from 2 to 8 weeks, depending on the legumeresidue and the soil used. The percentage of N in each phase varied among the legume residueand soils. Linear regression analyses showed that net cumulative amounts of N mineralizedfrom individual legume residues was significantly correlated with the total polyphenols and poly-phenol-to-N ratios for two soils. Nitrogen mineralization of dolichos and field bean was signifi-cantly and negatively correlated with clay and sand, respectively; of field bean and alfalfa wassignificantly correlated with Cmic; and of dolichos significantly but negatively correlated with thetotal N and organic N in soils. Linear regression analysis of the pooled data showed that netcumulative amounts of N mineralized and percentage N mineralized were significantly correlatedwith C : N ratios of the residues ( r= 0.44 and 0.48 at p<0.05, respectively), and that net cumu-lative N mineralized was significantly correlated with (lignin + polyphenols)-to-N ratios ( r= 0.41atp<0.05) and with lignin contents (r = 0.61 at p<0.001).Keywords: amino acids / polyphenols / lignin / leguminous crops / nitrogen mineralization / soil propertiesAccepted January 25, 20071 IntroductionDecline in soil fertility and the high cost of fertilizers are thekey factors limiting food production in many developing coun-tries. Grain legumes can play a major role in nutrient captureand cycling as well as provide alternatives to shifting cultiva-tion in replenishing soil fertility. With increased population andthe demand on land use, long fallow periods are not feasible.However, shortfallow periods wit h high-yielding legume covercrops, which resultin green manure, can provide mineral N forsubsequent crops in rotation systems. Biomass production indifferent legumes range from 1.3 to 24 t dry matter (d.m.)ha±1, with largest values in the food legumes. Nitrogen accu-mulation ranges from 25 to 530 kg ha ±1and depends on thelegume species, age of the crop, and environmental condi-tions. The history, production, N-fertilizer equivalent, effect onsoil properties, and erosion control of legume winter covercrops are covered in a comprehensive review by Smith etal.(1987). Nutrient transformations in soils amended with greenmanures have been thoroughly reviewed in a second bookchapter by Singh etal. (1992). Itis evidentfrom t hose reviewarticles that a number of questions remained unanswered.Studies demonstrated that the decomposition and nutrient-release rates are influenced by legume quality parameters suchas polyphenols, lignin, and the concentration of N ( Foxetal.,1990; Constantinides andFownes , 1994a; Tian etal., 1995;Mafongoya etal., 1997; Palm et al., 1997). Further, some ratios,such as lignin-to-N, polyphenol-to-N, and (lignin + polyphenol)-to-N ratios have also been used as indexes of residue-N release(Constantinides andFownes, 1994a; Handayanto etal., 1994;Palm andSanchez ,1 9 9 1 ; Singh andKumar , 1996). Ithas notbeen clearly established, however, which of those variables cor-relate the best with N mineralization of green manures. A reviewarticle by Hattenschwiler andVitousek (2000) on the role of poly-phenols in nutrient cycling in terrestrial ecosystems concludedt hatseveral lines of evidence suggestt hatpolyphenols influ-ence the pools and fluxes of inorganic and organic soil nutrients.* Correspondence: Prof. Dr. M. A. Tabatabai;e-mail: malit@iastate.edu\n",
      "\befining the relation between soil water contentand net nitrogen mineralizationK. I. P AULa,P .J .P OLGLASEa, A. M. O'C ONNELLa,J .C .C ARLYLEa,P .J .S METHURSTa,b&P. K. K HANNAaaCSIRO Forestry and Forest Products, PO Box E4008, Kingston ACT 2604, andbCooperative Research Centrefor Sustainable Production Forestry, GPO Box 252-12, Hobart, Tas. 7001, AustraliaSummarySimulationmodelsofnetmineralizationofnitrogen(N)insoilneedtobeabletoincorporatetheeffectofsoil water.Our objective wasto identifyanddefine thebest wayof expressing soilwater andits effect onnet mineralization across a range of soil types. We collated data from 12 laboratory incubation studies,includingatotalof33differentsoils,whereratesofnetmineralizationofNweredeterminedfromthenetaccumulationofmineralNunderarangeofwatercontentsatnear-optimaltemperatures.Measurementsof water potential andlimits of water content observedin the fieldwere available for most of these soils.Thepercentageofporespacefilledwithwaterwasestimatedfrommeasurementsofsoilbulkdensity.Wefoundthat relative water content, particularly when expressedrelative to an upper andlower limit ofwater content observed in the field, was the best descriptor for net mineralization. The next bestdescriptions were soil water potential, water content relative to the optimal water content for mineral-ization, andpercentage of pore space filledwith water, with water content alone being poor. Althoughvarious functions may be usedto d escribe the relation between relative water content andnet miner-alization of N, an equation for a sigmoidal curve provided the best fit, and explained 78 %of thevariation.IntroductionWater, or its absence, controls microbial activity in soil andthus rates of gross mineralization andimmobilization oforganic nitrogen (N), the balance of which determines ratesof net mineralization. These processes, in turn, influence theavailabilityofmineralNforplantgrowthandtheamountthatmight be leached. Defining a general relation between soilwater content andnet mineralization of N wouldgreatlyincrease the utility of empirical models for rates of decompos-ition, nitrate leaching, plant growth andplant response toapplication of N fertilizer. This is because in many models,relations between soil water content andnet mineralizationhave been basedon empirical observations of one specificsoil type.Currently, most predictive models use a dimensionlessscaling function, Wm, to simulate the effect of water contenton net mineralization:NminkTmWm\f; 1whereNminis the rate of net mineralization of N, kis the rateofmineralizationunderoptimalconditionsoftemperatureandmoisture, Tmis a dimensionless quantity that describes effectofsoiltemperatureonmicrobialactivity,scaledbetween0and1,Wmis a dimensionless quantity that describes effect of soilwater on microbial activity, scaledbetween 0 and1, and\frepresents other factors which couldinclud e, for example,a C:N ratio factor, again scaledbetween 0 and1.By rearranging Equation (1) we obtain WmasWmNminkTmWm\f: 2A complicating factor for modelling the effect of soil wateron the net mineralization of N is that soil water can affect theseparate processes of gross mineralization andgross immobil-ization differently in different soils and under different con-ditions.Thequantity Wmmaydependonsubstratequality:themore easily decomposable the substrate is, the more sensitivemineralization is likely to be to water content. Difference inquality of substrate might explain why microbial activities offreshplantresiduesandsoilarenotsimilarlyaffectedbywatercontent (Quemada & Cabrera, 1997), and why the effects ofwater on microbial activity are greater in surface soil than inunderlying mineral soil layers (Leiro Âsetal., 1999). Given thatfunctionsof Wmareusuallycalibratedonshort-termlaboratoryCorrespondence: K.I. Paul. E-mail: Keryn.Paul@csiro.auReceived8 January 2002; revisedversion accepted5 August 2002European Journal of Soil Science , March 2003, 54,39±47#2003 Blackwell Publishing Ltd 39\n"
     ]
    }
   ],
   "source": [
    "decoded_text_by_key = {}\n",
    "for idx, filename in enumerate(errors.keys()):\n",
    "    file_path = os.path.join(folder_path, filename)\n",
    "    text = read_pdf(file_path)\n",
    "    # Remove the leading '/' and split the input string by '/'\n",
    "    \n",
    "\n",
    "    if idx == 0:\n",
    "        custom_codes = text[1:].split('/')\n",
    "        # Convert each hexadecimal code to the corresponding ASCII character\n",
    "        ascii_chars = [chr(int(hex_code[1:], 16)) for hex_code in custom_codes]\n",
    "        # Join the ASCII characters to form the decoded text\n",
    "        decoded_text = ''.join(ascii_chars)\n",
    "    else:\n",
    "        decoded_words = []\n",
    "        custom_code_words = text[1:].split(' ')\n",
    "        for word in custom_code_words:\n",
    "            custom_codes = word[1:].split('/')\n",
    "            ascii_chars = [chr(int(custom_code[1:])) for custom_code in custom_codes]\n",
    "            # Join the ASCII characters to form the decoded text\n",
    "            decoded_word = ''.join(ascii_chars)\n",
    "            decoded_words.append(decoded_word)\n",
    "        decoded_text = ' '.join(decoded_words)\n",
    "\n",
    "    \n",
    "    print(decoded_text)\n",
    "    decoded_text_by_key[filename] = decoded_text"
   ]
  },
  {
   "cell_type": "code",
   "execution_count": 64,
   "metadata": {},
   "outputs": [],
   "source": [
    "for file, text in decoded_text_by_key.items():\n",
    "    try:\n",
    "        processed_files[file] = extract_abstract(text)\n",
    "    except Exception as e:\n",
    "        print(f\"Error processing {file}: {e}\")\n",
    "        errors[file] = e"
   ]
  },
  {
   "cell_type": "code",
   "execution_count": 83,
   "metadata": {},
   "outputs": [],
   "source": [
    "# processed_files\n",
    "items_list = []\n",
    "failed_items = []\n",
    "for key, value in processed_files.items():\n",
    "    try:\n",
    "        # Remove newlines\n",
    "        value = re.sub('\\n', '', value)\n",
    "\n",
    "        # Replace multiple spaces with single space\n",
    "        value = re.sub(' +', ' ', value)\n",
    "\n",
    "        # Remove trailing comma (if present)\n",
    "        value = re.sub(',\\s*}', '}', value)\n",
    "\n",
    "        # Remove single quotes and double quotes within double quotes\n",
    "        value = re.sub('(\".*?)\"', lambda x: x.group(1).replace(\"'\", \"\").replace('\"', ''), value)\n",
    "\n",
    "        # print(value)\n",
    "        if '\"title\"' not in value:\n",
    "            title, abstract = value.split('abstract:')\n",
    "            title = title.replace('title:', '')\n",
    "            # remove curly braces\n",
    "            title = title.replace('{', '').replace('}', '')\n",
    "            abstract = abstract.replace('{', '').replace('}', '')\n",
    "            # remove leading and trailing spaces\n",
    "            title = title.strip()\n",
    "            abstract = abstract.strip()\n",
    "            #remove leading and trailing commas\n",
    "            title = title.strip(',')\n",
    "            abstract = abstract.strip(',')\n",
    "            # json_object = {\"title\": title, \"abstract\": abstract}\n",
    "        else:\n",
    "            json_object = json.loads(value)\n",
    "            title = json_object['title']\n",
    "            abstract = json_object['abstract']\n",
    "        # json_object['file_name'] = key\n",
    "        items_list.append([key, title, abstract])\n",
    "    except Exception as e:\n",
    "        print(e)\n",
    "        print(value)\n",
    "        failed_items.append(value)\n",
    "        break"
   ]
  },
  {
   "cell_type": "code",
   "execution_count": 84,
   "metadata": {},
   "outputs": [
    {
     "data": {
      "text/plain": [
       "172"
      ]
     },
     "execution_count": 84,
     "metadata": {},
     "output_type": "execute_result"
    }
   ],
   "source": [
    "len(items_list)"
   ]
  },
  {
   "cell_type": "code",
   "execution_count": 86,
   "metadata": {},
   "outputs": [],
   "source": [
    "# create dataframe from dictionary\n",
    "df = pd.DataFrame(items_list, columns=['filename', 'title', 'abstract'])"
   ]
  },
  {
   "cell_type": "code",
   "execution_count": 87,
   "metadata": {},
   "outputs": [],
   "source": [
    "df['abstract'] = df['abstract'].apply(lambda x: x.lower())\n",
    "df['abstract_modified'] = df['abstract']"
   ]
  },
  {
   "cell_type": "code",
   "execution_count": 89,
   "metadata": {},
   "outputs": [],
   "source": [
    "# save dataframe to CSV file\n",
    "df.to_csv('../data/exports/article_abstracts.csv', index=False)"
   ]
  }
 ],
 "metadata": {
  "kernelspec": {
   "display_name": "auto-gpt",
   "language": "python",
   "name": "python3"
  },
  "language_info": {
   "codemirror_mode": {
    "name": "ipython",
    "version": 3
   },
   "file_extension": ".py",
   "mimetype": "text/x-python",
   "name": "python",
   "nbconvert_exporter": "python",
   "pygments_lexer": "ipython3",
   "version": "3.9.13"
  },
  "orig_nbformat": 4,
  "vscode": {
   "interpreter": {
    "hash": "53eb487545d1ed174505cf4905d10dfe91dbcf567100ade37908d6d565013ec9"
   }
  }
 },
 "nbformat": 4,
 "nbformat_minor": 2
}
